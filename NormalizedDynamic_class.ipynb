{
  "nbformat": 4,
  "nbformat_minor": 0,
  "metadata": {
    "colab": {
      "provenance": []
    },
    "kernelspec": {
      "name": "python3",
      "display_name": "Python 3"
    },
    "language_info": {
      "name": "python"
    }
  },
  "cells": [
    {
      "cell_type": "code",
      "execution_count": null,
      "metadata": {
        "id": "4pohG9e9pGnm"
      },
      "outputs": [],
      "source": [
        "class NormalizedDynamics(torch.nn.Module):\n",
        "    def __init__(self, dim=2, alpha=1.0, max_iter=50):\n",
        "        super().__init__()\n",
        "        self.dim = dim\n",
        "        self.alpha = torch.nn.Parameter(torch.tensor(alpha))\n",
        "        self.max_iter = max_iter\n",
        "\n",
        "    def forward(self, x):\n",
        "        original_mean = torch.mean(x, dim=0, keepdim=True)\n",
        "        original_std = torch.std(x, dim=0, keepdim=True)\n",
        "\n",
        "        x_centered = x - original_mean\n",
        "        dists = torch.cdist(x_centered, x_centered)\n",
        "\n",
        "        k = min(15, x.size(0) - 1)\n",
        "        kth_dists, _ = torch.topk(dists, k, dim=1, largest=False)\n",
        "        sigma = kth_dists[:, -1].view(-1, 1)\n",
        "\n",
        "        kernel = torch.exp(-dists / (2 * sigma**2))\n",
        "        kernel = kernel / torch.sum(kernel, dim=1, keepdim=True)\n",
        "\n",
        "        drift = torch.matmul(kernel, x_centered)\n",
        "\n",
        "        step_size = self.dim**(-self.alpha)\n",
        "        h = x_centered + step_size * (drift - x_centered)\n",
        "\n",
        "        h = h * (original_std / torch.std(h, dim=0, keepdim=True))\n",
        "        h = h + original_mean\n",
        "\n",
        "        return h\n",
        "\n",
        "    def fit_transform(self, X):\n",
        "        if not torch.is_tensor(X):\n",
        "            X = torch.tensor(X, dtype=torch.float32)\n",
        "\n",
        "        X_embedded = X.clone()\n",
        "        for _ in range(self.max_iter):\n",
        "            X_embedded = self.forward(X_embedded)\n",
        "        return X_embedded.detach().numpy()"
      ]
    }
  ]
}